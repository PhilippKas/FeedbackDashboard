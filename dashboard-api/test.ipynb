{
 "cells": [
  {
   "cell_type": "code",
   "execution_count": 14,
   "metadata": {},
   "outputs": [],
   "source": [
    "import polars as pl\n",
    "from datetime import datetime"
   ]
  },
  {
   "cell_type": "code",
   "execution_count": 15,
   "metadata": {},
   "outputs": [],
   "source": [
    "data = pl.read_csv(\"data.csv\")\n",
    "data = data.with_columns(\n",
    "    pl.col(\"Date\").str.strptime(pl.Date, \"%Y-%m-%d\")\n",
    ")"
   ]
  },
  {
   "cell_type": "code",
   "execution_count": 16,
   "metadata": {},
   "outputs": [],
   "source": [
    "start = datetime.strptime(\"2024-06-01\", \"%Y-%m-%d\").date()\n",
    "end = datetime.strptime(\"2024-09-01\", \"%Y-%m-%d\").date()\n",
    "\n",
    "data_filt = data.filter(\n",
    "    pl.col(\"Date\").is_between(start, end)\n",
    ")"
   ]
  },
  {
   "cell_type": "code",
   "execution_count": 23,
   "metadata": {},
   "outputs": [
    {
     "data": {
      "text/plain": [
       "'[{\"Tool\":\"Home Page\",\"Rating\":1.75},{\"Tool\":\"Information Page\",\"Rating\":2.5},{\"Tool\":\"Store\",\"Rating\":3.25},{\"Tool\":\"Login Page\",\"Rating\":3.2},{\"Tool\":\"Booking Page\",\"Rating\":4.0},{\"Tool\":\"Support Page\",\"Rating\":3.67}]'"
      ]
     },
     "execution_count": 23,
     "metadata": {},
     "output_type": "execute_result"
    }
   ],
   "source": [
    "data_filt.group_by(\"Tool\").agg(\n",
    "    pl.col(\"Rating\").mean().round(2)\n",
    ").write_json()"
   ]
  }
 ],
 "metadata": {
  "kernelspec": {
   "display_name": "base",
   "language": "python",
   "name": "python3"
  },
  "language_info": {
   "codemirror_mode": {
    "name": "ipython",
    "version": 3
   },
   "file_extension": ".py",
   "mimetype": "text/x-python",
   "name": "python",
   "nbconvert_exporter": "python",
   "pygments_lexer": "ipython3",
   "version": "3.10.9"
  }
 },
 "nbformat": 4,
 "nbformat_minor": 2
}
